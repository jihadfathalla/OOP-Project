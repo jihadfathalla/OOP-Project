{
 "cells": [
  {
   "cell_type": "markdown",
   "metadata": {},
   "source": [
    "![image.png](attachment:image.png)"
   ]
  },
  {
   "cell_type": "markdown",
   "metadata": {},
   "source": [
    "> ### The Central Bank contacted our technical team and asked it to develop a program suitable for all banks, with the addition of some advantages for certain banks\n"
   ]
  },
  {
   "cell_type": "markdown",
   "metadata": {},
   "source": [
    "# Task 1 : \n",
    "- #### task 1.1 Make Class(User) with attributes:\n",
    "    - name \n",
    "    - age \n",
    "    - gender \n",
    "    - balance\n",
    "- #### task 1.2 Make method to show previous data "
   ]
  },
  {
   "cell_type": "code",
   "execution_count": 1,
   "metadata": {},
   "outputs": [
    {
     "name": "stdout",
     "output_type": "stream",
     "text": [
      "10000\n",
      "\n",
      "        name : gehad\n",
      "        age : 25\n",
      "        gender : female\n",
      "        balance : 10000\n",
      "        \n",
      "None\n"
     ]
    }
   ],
   "source": [
    "class User():\n",
    "    \n",
    "    def __init__(self , name , age , gender , balance):\n",
    "        self.name = name \n",
    "        self.age = age \n",
    "        self.gender = gender \n",
    "        self.balance = balance \n",
    "        \n",
    "        \n",
    "    def Display(self):\n",
    "        print(f'''\n",
    "        name : {self.name}\n",
    "        age : {self.age}\n",
    "        gender : {self.gender}\n",
    "        balance : {self.balance}\n",
    "        ''')\n",
    "user = User(name='gehad' , age=25 , gender='female' , balance=10000)\n",
    "print(user.balance)\n",
    "print(user.Display())"
   ]
  },
  {
   "cell_type": "markdown",
   "metadata": {},
   "source": [
    "# Task 2 : \n",
    "- Make Child Class(Bank) which inherite from Class(user) with Mehods:\n",
    "    - #### task 2.1 deposite : which take parameter(amount) and add it to balance and print new balance.  \n",
    "    - #### task 2.2 withdraw : which take parameter(amount) and check if user have enough money. \n",
    "    - #### task 2.3 view balance : to show current balance. "
   ]
  },
  {
   "cell_type": "code",
   "execution_count": 2,
   "metadata": {},
   "outputs": [
    {
     "name": "stdout",
     "output_type": "stream",
     "text": [
      "\n",
      "        name : Gehad\n",
      "        age : 25\n",
      "        gender : Female\n",
      "        balance : 1001000\n",
      "        \n",
      "Done!\n"
     ]
    }
   ],
   "source": [
    "\n",
    "class Bank(User):\n",
    "    \n",
    "    def Deposite(self , amount ):\n",
    "        self.balance += amount\n",
    "        \n",
    "        \n",
    "    def Withdraw(self , amount):\n",
    "        \n",
    "        if amount <= self.balance:\n",
    "            self.balance -= amount\n",
    "            print('Done!')\n",
    "        else :\n",
    "            print('not enougth money')\n",
    "            \n",
    "    def ViewBalance(self):\n",
    "        print(f'{self.balance}')\n",
    "\n",
    "        \n",
    "    \n",
    "\n",
    "bank = Bank(name='Gehad' , age=25 , gender='Female' , balance=1000000) \n",
    "bank.balance   \n",
    "bank.Deposite(1000)\n",
    "bank.Display()\n",
    "bank.Withdraw(1000)"
   ]
  },
  {
   "cell_type": "markdown",
   "metadata": {},
   "source": [
    "# Task 3 : \n",
    "- #### task 3.1 Make Child Class(CIB) which inherite from Class(Bank) with Mehods:\n",
    "    -   Loan application: which take parameter(amount) and  (Duration) >> max loan is one million\n",
    "- #### task 3.2 Make Child Class(QNB) which inherite from Class(Bank) with Mehods:\n",
    "    -   Loan application: which take parameter(amount) and  (Duration) >> max loan is one 2 million"
   ]
  },
  {
   "cell_type": "code",
   "execution_count": 4,
   "metadata": {},
   "outputs": [
    {
     "name": "stdout",
     "output_type": "stream",
     "text": [
      "Done!\n",
      "Done!\n"
     ]
    }
   ],
   "source": [
    "class CIB(Bank):\n",
    "    \n",
    "    def LoanApp(self , amount , duration):\n",
    "        if amount < 1000_000:\n",
    "            print('Done!')\n",
    "            \n",
    "            \n",
    "        else :\n",
    "            print('max loan one million')\n",
    "            \n",
    "            \n",
    "            \n",
    "class QNB(Bank):\n",
    "    \n",
    "    def LoanApp(self , amount , duration):\n",
    "        if amount < 2000_000:\n",
    "            print('Done!')\n",
    "            \n",
    "            \n",
    "        else :\n",
    "            print('max loan two million')\n",
    "    \n",
    "qnb = QNB(name='Gehad' , age=25 , gender='Female' , balance=1000000) \n",
    "qnb.LoanApp(1000 , 20)\n",
    "qnb.LoanApp(10000 , 1)"
   ]
  },
  {
   "cell_type": "code",
   "execution_count": null,
   "metadata": {},
   "outputs": [],
   "source": []
  }
 ],
 "metadata": {
  "kernelspec": {
   "display_name": "Python 3.8.10 64-bit",
   "language": "python",
   "name": "python3"
  },
  "language_info": {
   "codemirror_mode": {
    "name": "ipython",
    "version": 3
   },
   "file_extension": ".py",
   "mimetype": "text/x-python",
   "name": "python",
   "nbconvert_exporter": "python",
   "pygments_lexer": "ipython3",
   "version": "3.8.10"
  },
  "orig_nbformat": 4,
  "vscode": {
   "interpreter": {
    "hash": "916dbcbb3f70747c44a77c7bcd40155683ae19c65e1c03b4aa3499c5328201f1"
   }
  }
 },
 "nbformat": 4,
 "nbformat_minor": 2
}
